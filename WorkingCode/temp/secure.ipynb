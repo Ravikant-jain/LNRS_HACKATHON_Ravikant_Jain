{
 "cells": [
  {
   "cell_type": "code",
   "execution_count": 10,
   "metadata": {},
   "outputs": [],
   "source": [
    "import numpy as np\n",
    "from PIL import Image\n",
    "import random\n",
    "import os"
   ]
  },
  {
   "cell_type": "code",
   "execution_count": 11,
   "metadata": {},
   "outputs": [],
   "source": [
    "def encrypt_image(image_path, key):\n",
    "    # Open the image and convert it to a numpy array\n",
    "    image = Image.open(image_path)\n",
    "    image_array = np.array(image)\n",
    "\n",
    "    # Get the original shape of the image\n",
    "    original_shape = image_array.shape\n",
    "\n",
    "    # Flatten the array for easy shuffling\n",
    "    flat_array = image_array.flatten()\n",
    "\n",
    "    # Use the provided key to seed the random shuffle\n",
    "    random.seed(key)\n",
    "    shuffled_indices = list(range(len(flat_array)))\n",
    "    random.shuffle(shuffled_indices)\n",
    "\n",
    "    # Create the encrypted array using the shuffled indices\n",
    "    encrypted_array = flat_array[shuffled_indices]\n",
    "\n",
    "    # Reshape the encrypted array back to the original image shape\n",
    "    encrypted_image_array = encrypted_array.reshape(original_shape)\n",
    "\n",
    "    # Convert the encrypted array back to an image\n",
    "    encrypted_image = Image.fromarray(encrypted_image_array.astype('uint8'))\n",
    "\n",
    "    # Hardcoded folder path to save the encrypted image\n",
    "    save_folder = r'B:\\Playground\\LNRS\\Streamlit\\en_docs'  # Replace this with the actual folder path\n",
    "\n",
    "    # Ensure the save folder exists\n",
    "    os.makedirs(save_folder, exist_ok=True)\n",
    "\n",
    "    # Extract the original image name and extension\n",
    "    original_filename = os.path.basename(image_path)\n",
    "\n",
    "    # Save the encrypted image to the hardcoded folder path with the original name\n",
    "    encrypted_image.save(os.path.join(save_folder, original_filename))\n",
    "    print(f\"Image encrypted and saved to {os.path.join(save_folder, original_filename)}\")\n"
   ]
  },
  {
   "cell_type": "code",
   "execution_count": 6,
   "metadata": {},
   "outputs": [],
   "source": [
    "def decrypt_image(encrypted_image_path, key, output_path, original_shape):\n",
    "    # Open the encrypted image and convert it to a numpy array\n",
    "    encrypted_image = Image.open(encrypted_image_path)\n",
    "    encrypted_array = np.array(encrypted_image)\n",
    "\n",
    "    # Flatten the array\n",
    "    flat_encrypted_array = encrypted_array.flatten()\n",
    "\n",
    "    # Use the provided key to seed the random shuffle (same as encryption)\n",
    "    random.seed(key)\n",
    "    shuffled_indices = list(range(len(flat_encrypted_array)))\n",
    "    random.shuffle(shuffled_indices)\n",
    "\n",
    "    # Create an empty array to store the decrypted pixels\n",
    "    decrypted_array = np.empty_like(flat_encrypted_array)\n",
    "\n",
    "    # Reverse the shuffle by placing the pixels back to their original positions\n",
    "    for i, shuffled_index in enumerate(shuffled_indices):\n",
    "        decrypted_array[shuffled_index] = flat_encrypted_array[i]\n",
    "\n",
    "    # Reshape the decrypted array back to the original shape\n",
    "    decrypted_image_array = decrypted_array.reshape(original_shape)\n",
    "\n",
    "    # Convert the decrypted array back to an image\n",
    "    decrypted_image = Image.fromarray(decrypted_image_array.astype('uint8'))\n",
    "\n",
    "    # Save the decrypted image\n",
    "    decrypted_image.save(output_path)\n",
    "    print(f\"Image decrypted and saved to {output_path}\")"
   ]
  },
  {
   "cell_type": "code",
   "execution_count": 12,
   "metadata": {},
   "outputs": [
    {
     "name": "stdout",
     "output_type": "stream",
     "text": [
      "Image encrypted and saved to B:\\Playground\\LNRS\\Streamlit\\en_docs\\loan2.png\n"
     ]
    }
   ],
   "source": [
    "image_path = r'B:\\Playground\\LNRS\\loan2.png'  # Replace with your input image path\n",
    "encrypted_image_path = 'encrypted_image.png'\n",
    "decrypted_image_path = 'decrypted_image.png'\n",
    "key = 1234  # The key to encrypt/decrypt the image\n",
    "\n",
    "# Encrypt the image\n",
    "encrypt_image(image_path, key)\n"
   ]
  },
  {
   "cell_type": "code",
   "execution_count": null,
   "metadata": {},
   "outputs": [],
   "source": []
  }
 ],
 "metadata": {
  "kernelspec": {
   "display_name": "myenv",
   "language": "python",
   "name": "python3"
  },
  "language_info": {
   "codemirror_mode": {
    "name": "ipython",
    "version": 3
   },
   "file_extension": ".py",
   "mimetype": "text/x-python",
   "name": "python",
   "nbconvert_exporter": "python",
   "pygments_lexer": "ipython3",
   "version": "3.11.4"
  }
 },
 "nbformat": 4,
 "nbformat_minor": 2
}
